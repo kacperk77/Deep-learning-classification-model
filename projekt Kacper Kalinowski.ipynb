{
 "cells": [
  {
   "cell_type": "code",
   "execution_count": 1,
   "metadata": {},
   "outputs": [
    {
     "name": "stderr",
     "output_type": "stream",
     "text": [
      "Using TensorFlow backend.\n"
     ]
    }
   ],
   "source": [
    "import pandas as pd\n",
    "import numpy as np\n",
    "import keras\n",
    "import statistics as st\n",
    "from matplotlib import pyplot as plt\n",
    "from keras.models import Sequential\n",
    "from keras.layers import Dense\n",
    "from keras.wrappers.scikit_learn import KerasClassifier\n",
    "from keras.utils import np_utils\n",
    "from keras.utils import to_categorical \n",
    "from sklearn.model_selection import cross_val_score\n",
    "from sklearn.model_selection import KFold\n",
    "from sklearn.preprocessing import LabelEncoder\n",
    "from sklearn.pipeline import Pipeline\n",
    "from sklearn.neural_network import MLPClassifier\n",
    "from sklearn.preprocessing import OneHotEncoder\n",
    "from sklearn.model_selection import train_test_split\n",
    "from sklearn.metrics import accuracy_score\n",
    "from sklearn.metrics import confusion_matrix\n",
    "from sklearn.metrics import roc_curve, auc\n",
    "from sklearn.metrics import roc_auc_score\n",
    "import tensorflow as tf\n",
    "from matplotlib import pyplot\n",
    "from sklearn.utils import class_weight"
   ]
  },
  {
   "cell_type": "markdown",
   "metadata": {},
   "source": [
    "# Wstęp"
   ]
  },
  {
   "cell_type": "markdown",
   "metadata": {},
   "source": [
    "Celem niniejszego raportu jest analiza zdolności predykcyjnych sieci neuronowych w problemie klasyfikacji, a także porównanie ich z możliwościami regresji logistycznej. Możliwości dyskryminacyjne algorytmu zostaną sprawdzone za pomocą odpowiednich wskaźników jakości. Analiza ta zostanie przeprowadzona na zbiorze danych pochodzącym z badania \"Diagnoza Społeczna. Warunki i jakość życia Polaków\". Poniższa analiza pozwoli odpowiedzieć na pytanie, jak dobrze model sieci neuronowych będzie przewidywać wynik zmiennej objaśnianej na podstawie ustalonych zmiennych objaśniających oraz który z wymienionych algorytmów posiada lepsze zdolności dyskryminacyjne na wybranym zbiorze danych\n",
    "    "
   ]
  },
  {
   "cell_type": "markdown",
   "metadata": {},
   "source": [
    "# Opis i eksploracja zbioru danych"
   ]
  },
  {
   "cell_type": "markdown",
   "metadata": {},
   "source": [
    "Finalny zbiór danych złożony jest z dwóch części. Pierwsza część to zbiór który odnosi się do danych dotyczących osób, które są głowami gospodarstw domowych i brały udziały w fali z roku 2015. Druga część dotyczy gospodarstw domowych które również brały udział w fali z roku 2015. Te dwie części zostały połączone za pomocą numeru gospodarstwa domowego, który jest zmienną z unikalnymi wartościami występującą w obu zbiorach. Obserwacje z brakami danych zostały usunięte ze zbioru.\n",
    "\n",
    "Poniższa analiza danych została wykonana wcześniej - w ramach pracy licencjackiej."
   ]
  },
  {
   "cell_type": "markdown",
   "metadata": {},
   "source": [
    "### Zmienne użyte w modelu"
   ]
  },
  {
   "cell_type": "markdown",
   "metadata": {},
   "source": [
    "Zmienna objaśniana w modelu odnosi się do subiektywnej oceny sytuacji finansowej gospodarstwa domowego (zmienna fin_sit). Jest to zmienna binarna która przyjmuje dwie wartości: \n",
    "* dobra subiektywna sytuacja finansowa - wartość równa 0\n",
    "* zła subiektywna sytuacja finasowa - wartość równa 1\n"
   ]
  },
  {
   "cell_type": "markdown",
   "metadata": {},
   "source": [
    "Wynik                                         | N             | % \n",
    "----------------------------------------- | ------------- |-------\n",
    "Dobra subiektywna sytuacja finansowa (0)  | 3171          | 33%\n",
    "Zła subiektywna sytuacja finansowa (1)    | 6426          | 67%"
   ]
  },
  {
   "cell_type": "markdown",
   "metadata": {},
   "source": [
    "Liczba obserwacji z kompletnym źródłem infromacji w zbiorze danych wynosi 9597. \n",
    "\n",
    "\n",
    "Wyróżniono kilka zmiennych które mają istotny wpływ na subiektywną ocenę sytuacji finansowej:\n",
    "\n",
    "\n",
    "Wiek głowy rodziny (zmienna wiek):\n",
    "1. Poniżej 34 lat\n",
    "2. Pomiędzy 35 a 44 lat\n",
    "3. Pomiędzy 45 a 59 lat\n",
    "4. Pomiędzy 60 a 64 lata\n",
    "5. Powyżej 65 lat\n",
    "\n",
    "Biologiczny typ rodziny (zmienna biological_type):\n",
    "1. Małżeństwo bez dzieci\n",
    "2. Małżeństwo z 1 dzieckiem\n",
    "3. Małżeństwo z 2+ dziećmi\n",
    "4. Nierodzinne jednoosobowe\n",
    "5. Rodziny niepełne\n",
    "\n",
    "Poziom edukacji głowy rodziny (zmienna education):\n",
    "1. Podstawowe i niższe\n",
    "2. Zasadnicze zawodowe / gimnazjum\n",
    "3. Średnie\n",
    "4. Wyższe i poliecalne\n",
    "\n",
    "Miejsce zamieszkania (zmienna place_residence):\n",
    "1. Wieś\n",
    "2. Miasto\n",
    "\n",
    "\n",
    "\n",
    "Status socjoekonomiczny (zmienna soceco_group):\n",
    "1. gospodarstwa pracowników \n",
    "2. gospodarstwa emerytów \n",
    "3. gospodarstwa pracujących na własny rachunek \n",
    "4. gospodarstwa rolników \n",
    "5. gospodarstwa rencistów\n",
    "\n",
    "Liczba osób w gospodarstwie domowym (zmienna num_of_ind)\n",
    "\n"
   ]
  },
  {
   "cell_type": "markdown",
   "metadata": {},
   "source": [
    "|Nazwa zmiennej                                     | Wynik zmiennej                                                      |       Czy dobra subiektywna ocena sytuacji finansowej| |\n",
    "|-----------------------------------------|--------------------------------------|-----------------|------|\n",
    "|                                        |                                     | Yes                            | No  |\n",
    "|                                        |                                     |                                |     |\n",
    "| Age of head of the family              | Below 34                            | 9%                             | 6%  |\n",
    "|                                        | Between 35 and 44                   | 19%                            | 13% |\n",
    "|                                        | Between 45 and 59                   | 30%                            | 30% |\n",
    "|                                        | Between 60 and 64                   | 11%                            | 14% |\n",
    "|                                        | Above 65+                           | 31%                            | 37% |\n",
    "|                                        |                                     |                                |     |\n",
    "| Biological type of households          | Marriage without children           | 34%                            | 23% |\n",
    "|                                        | Marriage with 1 child               | 20%                            | 16% |\n",
    "|                                        | Marriage with 2+ children           | 22%                            | 22% |\n",
    "|                                        | Non-family one-person               | 18%                            | 25% |\n",
    "|                                        | One-parent families                 | 6%                             | 14% |\n",
    "|                                        |                                     |                                |     |\n",
    "| Education level of head of the family  | Primary and lower education         | 8%                             | 23% |\n",
    "|                                        | Vocational education                | 24%                            | 35% |\n",
    "|                                        | Secondary education                 | 30%                            | 27% |\n",
    "|                                        | Higher education                    | 38%                            | 15% |\n",
    "|                                        |                                     |                                |     |\n",
    "| Class of place of residence            | Rural area                          | 31%                            | 45% |\n",
    "|                                        | Town                                | 69%                            | 55% |\n",
    "|                                        |                                     |                                |     |\n",
    "| Socio-economic group                   | Employed                            | 51%                            | 41% |\n",
    "|                                        | Pensioners                          | 35%                            | 40% |\n",
    "|                                        | Self-Employed                       | 8%                             | 3%  |\n",
    "|                                        | Farmers                             | 4%                             | 7%  |\n",
    "|                                        | Disability pensioners               | 2%                             | 9%  |\n",
    "|                                        |                                     |                                |     |\n",
    "| Number of individuals in household     | 1                                   | 18%                            | 25% |\n",
    "|                                        | 2                                   | 36%                            | 30% |\n",
    "|                                        | 3                                   | 21%                            | 19% |\n",
    "|                                        | 4                                   | 18%                            | 16% |\n",
    "|                                        | 5                                   | 5%                             | 7%  |\n",
    "|                                        | 6+                                  | 2%                             | 3%  |"
   ]
  },
  {
   "cell_type": "markdown",
   "metadata": {},
   "source": [
    "W każdej ze zmiennych widzimy istotne różnice pomiędzy wynikiem zmiennej objaśnianej w poszczególnych grupach. Najmniejsze różnice wystąpiły w zmiennej dotyczącej wieku w grupie Pomiędzy \"45 a 59 lat\", a także w zmiennej odnoszącej się do edukacji głowy rodziny w grupie \"Średnie\". Jednakże całościowo zmienne te mają istotny wpływ na różnicowanie zmiennej objaśnianej.  "
   ]
  },
  {
   "cell_type": "code",
   "execution_count": 2,
   "metadata": {},
   "outputs": [
    {
     "data": {
      "text/html": [
       "<div>\n",
       "<style scoped>\n",
       "    .dataframe tbody tr th:only-of-type {\n",
       "        vertical-align: middle;\n",
       "    }\n",
       "\n",
       "    .dataframe tbody tr th {\n",
       "        vertical-align: top;\n",
       "    }\n",
       "\n",
       "    .dataframe thead th {\n",
       "        text-align: right;\n",
       "    }\n",
       "</style>\n",
       "<table border=\"1\" class=\"dataframe\">\n",
       "  <thead>\n",
       "    <tr style=\"text-align: right;\">\n",
       "      <th></th>\n",
       "      <th>fin_sit</th>\n",
       "      <th>soceco_group</th>\n",
       "      <th>biological_type</th>\n",
       "      <th>education</th>\n",
       "      <th>place_residence</th>\n",
       "      <th>wiek</th>\n",
       "      <th>num_of_ind</th>\n",
       "      <th>num_of_ind_norm</th>\n",
       "    </tr>\n",
       "  </thead>\n",
       "  <tbody>\n",
       "    <tr>\n",
       "      <td>0</td>\n",
       "      <td>1</td>\n",
       "      <td>_farmers</td>\n",
       "      <td>one_parent</td>\n",
       "      <td>primary&amp;lower</td>\n",
       "      <td>rural_area</td>\n",
       "      <td>Above 65+</td>\n",
       "      <td>2</td>\n",
       "      <td>-0.450468</td>\n",
       "    </tr>\n",
       "    <tr>\n",
       "      <td>1</td>\n",
       "      <td>1</td>\n",
       "      <td>_dis_pensioners</td>\n",
       "      <td>marr_no_child</td>\n",
       "      <td>primary&amp;lower</td>\n",
       "      <td>rural_area</td>\n",
       "      <td>Between 60 and 64</td>\n",
       "      <td>2</td>\n",
       "      <td>-0.450468</td>\n",
       "    </tr>\n",
       "    <tr>\n",
       "      <td>2</td>\n",
       "      <td>1</td>\n",
       "      <td>_employed</td>\n",
       "      <td>one_person</td>\n",
       "      <td>secondary</td>\n",
       "      <td>town</td>\n",
       "      <td>Between 45 and 59</td>\n",
       "      <td>1</td>\n",
       "      <td>-1.179989</td>\n",
       "    </tr>\n",
       "    <tr>\n",
       "      <td>3</td>\n",
       "      <td>0</td>\n",
       "      <td>_self-employed</td>\n",
       "      <td>marr_no_child</td>\n",
       "      <td>secondary</td>\n",
       "      <td>town</td>\n",
       "      <td>Between 45 and 59</td>\n",
       "      <td>2</td>\n",
       "      <td>-0.450468</td>\n",
       "    </tr>\n",
       "    <tr>\n",
       "      <td>4</td>\n",
       "      <td>0</td>\n",
       "      <td>_self-employed</td>\n",
       "      <td>marr_2+_child</td>\n",
       "      <td>secondary</td>\n",
       "      <td>town</td>\n",
       "      <td>Between 35 and 44</td>\n",
       "      <td>4</td>\n",
       "      <td>1.008574</td>\n",
       "    </tr>\n",
       "  </tbody>\n",
       "</table>\n",
       "</div>"
      ],
      "text/plain": [
       "   fin_sit     soceco_group biological_type      education place_residence  \\\n",
       "0        1         _farmers      one_parent  primary&lower      rural_area   \n",
       "1        1  _dis_pensioners   marr_no_child  primary&lower      rural_area   \n",
       "2        1        _employed      one_person      secondary            town   \n",
       "3        0   _self-employed   marr_no_child      secondary            town   \n",
       "4        0   _self-employed   marr_2+_child      secondary            town   \n",
       "\n",
       "                wiek  num_of_ind  num_of_ind_norm  \n",
       "0          Above 65+           2        -0.450468  \n",
       "1  Between 60 and 64           2        -0.450468  \n",
       "2  Between 45 and 59           1        -1.179989  \n",
       "3  Between 45 and 59           2        -0.450468  \n",
       "4  Between 35 and 44           4         1.008574  "
      ]
     },
     "execution_count": 2,
     "metadata": {},
     "output_type": "execute_result"
    }
   ],
   "source": [
    "# Wczytanie zbioru danych\n",
    "dataframe = pd.read_csv('data2.csv')\n",
    "mean = st.mean(dataframe['num_of_ind'])\n",
    "sd = st.stdev(dataframe['num_of_ind'])\n",
    "\n",
    "#normalizacja zmiennej\n",
    "dataframe['num_of_ind_norm'] =  (dataframe['num_of_ind'] - mean) / sd\n",
    "dataframe =dataframe[['fin_sit', 'soceco_group','biological_type', 'education', 'place_residence', 'wiek', 'num_of_ind', 'num_of_ind_norm']]\n",
    "\n",
    "dataframe.head()"
   ]
  },
  {
   "cell_type": "code",
   "execution_count": 3,
   "metadata": {},
   "outputs": [
    {
     "data": {
      "text/html": [
       "<div>\n",
       "<style scoped>\n",
       "    .dataframe tbody tr th:only-of-type {\n",
       "        vertical-align: middle;\n",
       "    }\n",
       "\n",
       "    .dataframe tbody tr th {\n",
       "        vertical-align: top;\n",
       "    }\n",
       "\n",
       "    .dataframe thead th {\n",
       "        text-align: right;\n",
       "    }\n",
       "</style>\n",
       "<table border=\"1\" class=\"dataframe\">\n",
       "  <thead>\n",
       "    <tr style=\"text-align: right;\">\n",
       "      <th></th>\n",
       "      <th>fin_sit</th>\n",
       "      <th>num_of_ind_norm</th>\n",
       "      <th>__dis_pensioners</th>\n",
       "      <th>__employed</th>\n",
       "      <th>__farmers</th>\n",
       "      <th>__pensioners</th>\n",
       "      <th>__self-employed</th>\n",
       "      <th>_marr_1_child</th>\n",
       "      <th>_marr_2+_child</th>\n",
       "      <th>_marr_no_child</th>\n",
       "      <th>...</th>\n",
       "      <th>_primary&amp;lower</th>\n",
       "      <th>_secondary</th>\n",
       "      <th>_vocational</th>\n",
       "      <th>_rural_area</th>\n",
       "      <th>_town</th>\n",
       "      <th>_Above 65+</th>\n",
       "      <th>_Below 34</th>\n",
       "      <th>_Between 35 and 44</th>\n",
       "      <th>_Between 45 and 59</th>\n",
       "      <th>_Between 60 and 64</th>\n",
       "    </tr>\n",
       "  </thead>\n",
       "  <tbody>\n",
       "    <tr>\n",
       "      <td>0</td>\n",
       "      <td>1</td>\n",
       "      <td>-0.450468</td>\n",
       "      <td>0</td>\n",
       "      <td>0</td>\n",
       "      <td>1</td>\n",
       "      <td>0</td>\n",
       "      <td>0</td>\n",
       "      <td>0</td>\n",
       "      <td>0</td>\n",
       "      <td>0</td>\n",
       "      <td>...</td>\n",
       "      <td>1</td>\n",
       "      <td>0</td>\n",
       "      <td>0</td>\n",
       "      <td>1</td>\n",
       "      <td>0</td>\n",
       "      <td>1</td>\n",
       "      <td>0</td>\n",
       "      <td>0</td>\n",
       "      <td>0</td>\n",
       "      <td>0</td>\n",
       "    </tr>\n",
       "    <tr>\n",
       "      <td>1</td>\n",
       "      <td>1</td>\n",
       "      <td>-0.450468</td>\n",
       "      <td>1</td>\n",
       "      <td>0</td>\n",
       "      <td>0</td>\n",
       "      <td>0</td>\n",
       "      <td>0</td>\n",
       "      <td>0</td>\n",
       "      <td>0</td>\n",
       "      <td>1</td>\n",
       "      <td>...</td>\n",
       "      <td>1</td>\n",
       "      <td>0</td>\n",
       "      <td>0</td>\n",
       "      <td>1</td>\n",
       "      <td>0</td>\n",
       "      <td>0</td>\n",
       "      <td>0</td>\n",
       "      <td>0</td>\n",
       "      <td>0</td>\n",
       "      <td>1</td>\n",
       "    </tr>\n",
       "    <tr>\n",
       "      <td>2</td>\n",
       "      <td>1</td>\n",
       "      <td>-1.179989</td>\n",
       "      <td>0</td>\n",
       "      <td>1</td>\n",
       "      <td>0</td>\n",
       "      <td>0</td>\n",
       "      <td>0</td>\n",
       "      <td>0</td>\n",
       "      <td>0</td>\n",
       "      <td>0</td>\n",
       "      <td>...</td>\n",
       "      <td>0</td>\n",
       "      <td>1</td>\n",
       "      <td>0</td>\n",
       "      <td>0</td>\n",
       "      <td>1</td>\n",
       "      <td>0</td>\n",
       "      <td>0</td>\n",
       "      <td>0</td>\n",
       "      <td>1</td>\n",
       "      <td>0</td>\n",
       "    </tr>\n",
       "    <tr>\n",
       "      <td>3</td>\n",
       "      <td>0</td>\n",
       "      <td>-0.450468</td>\n",
       "      <td>0</td>\n",
       "      <td>0</td>\n",
       "      <td>0</td>\n",
       "      <td>0</td>\n",
       "      <td>1</td>\n",
       "      <td>0</td>\n",
       "      <td>0</td>\n",
       "      <td>1</td>\n",
       "      <td>...</td>\n",
       "      <td>0</td>\n",
       "      <td>1</td>\n",
       "      <td>0</td>\n",
       "      <td>0</td>\n",
       "      <td>1</td>\n",
       "      <td>0</td>\n",
       "      <td>0</td>\n",
       "      <td>0</td>\n",
       "      <td>1</td>\n",
       "      <td>0</td>\n",
       "    </tr>\n",
       "    <tr>\n",
       "      <td>4</td>\n",
       "      <td>0</td>\n",
       "      <td>1.008574</td>\n",
       "      <td>0</td>\n",
       "      <td>0</td>\n",
       "      <td>0</td>\n",
       "      <td>0</td>\n",
       "      <td>1</td>\n",
       "      <td>0</td>\n",
       "      <td>1</td>\n",
       "      <td>0</td>\n",
       "      <td>...</td>\n",
       "      <td>0</td>\n",
       "      <td>1</td>\n",
       "      <td>0</td>\n",
       "      <td>0</td>\n",
       "      <td>1</td>\n",
       "      <td>0</td>\n",
       "      <td>0</td>\n",
       "      <td>1</td>\n",
       "      <td>0</td>\n",
       "      <td>0</td>\n",
       "    </tr>\n",
       "  </tbody>\n",
       "</table>\n",
       "<p>5 rows × 23 columns</p>\n",
       "</div>"
      ],
      "text/plain": [
       "   fin_sit  num_of_ind_norm  __dis_pensioners  __employed  __farmers  \\\n",
       "0        1        -0.450468                 0           0          1   \n",
       "1        1        -0.450468                 1           0          0   \n",
       "2        1        -1.179989                 0           1          0   \n",
       "3        0        -0.450468                 0           0          0   \n",
       "4        0         1.008574                 0           0          0   \n",
       "\n",
       "   __pensioners  __self-employed  _marr_1_child  _marr_2+_child  \\\n",
       "0             0                0              0               0   \n",
       "1             0                0              0               0   \n",
       "2             0                0              0               0   \n",
       "3             0                1              0               0   \n",
       "4             0                1              0               1   \n",
       "\n",
       "   _marr_no_child  ...  _primary&lower  _secondary  _vocational  _rural_area  \\\n",
       "0               0  ...               1           0            0            1   \n",
       "1               1  ...               1           0            0            1   \n",
       "2               0  ...               0           1            0            0   \n",
       "3               1  ...               0           1            0            0   \n",
       "4               0  ...               0           1            0            0   \n",
       "\n",
       "   _town  _Above 65+  _Below 34  _Between 35 and 44  _Between 45 and 59  \\\n",
       "0      0           1          0                   0                   0   \n",
       "1      0           0          0                   0                   0   \n",
       "2      1           0          0                   0                   1   \n",
       "3      1           0          0                   0                   1   \n",
       "4      1           0          0                   1                   0   \n",
       "\n",
       "   _Between 60 and 64  \n",
       "0                   0  \n",
       "1                   1  \n",
       "2                   0  \n",
       "3                   0  \n",
       "4                   0  \n",
       "\n",
       "[5 rows x 23 columns]"
      ]
     },
     "execution_count": 3,
     "metadata": {},
     "output_type": "execute_result"
    }
   ],
   "source": [
    "# Stworzenie obserwacji zero-jedynkowych w zmiennych nominalnych lub porządkowych\n",
    "a= pd.get_dummies(dataframe[['soceco_group', 'biological_type',  'education', 'place_residence', 'wiek']], prefix='')\n",
    "\n",
    "df = pd.concat([dataframe[['fin_sit', 'num_of_ind_norm']].reset_index(drop=True), a], axis=1)\n",
    "\n",
    "#Podzial na zmienne objasniajace i zmienna objasniana\n",
    "X = df.iloc[:, 1:25]\n",
    "y = df.iloc[:, 0]\n",
    "\n",
    "df.head()"
   ]
  },
  {
   "cell_type": "markdown",
   "metadata": {},
   "source": [
    "# Regresja logistyczna"
   ]
  },
  {
   "cell_type": "markdown",
   "metadata": {},
   "source": [
    "Model regresji logistycznej został zbudowany na wyżej opisanych danych, z wykorzystaniem wszystkich zmiennych. Model ten był przedmiotem mojej pracy licencjackiej, do której wyników będę się odnosił.\n",
    "\n",
    "Wszystkie zmienne w modelu były istotne, nie występowała współliniowość zmiennych objaśniających, a wyniki testów zgodności wskazywały na dobre dopasowanie modelu do danych. "
   ]
  },
  {
   "cell_type": "markdown",
   "metadata": {},
   "source": [
    "# Opis architektury sieci i procedury uczenia"
   ]
  },
  {
   "cell_type": "markdown",
   "metadata": {},
   "source": [
    "### Podział zbioru danych "
   ]
  },
  {
   "cell_type": "markdown",
   "metadata": {},
   "source": [
    "Głównym celem budowy modeli predykcyjnych jest późniejsze wykorzystanie przewidywań modelu na danych niedostępnych podczas procesu uczenia. W celu uniknięcia przeszacowania, czyli nadmiernego optymizmu dotyczącego możliwości dyskryminacyjnych modelu, zbiór danych podzielono na dane treningowe i testowe. Do danych treningowych zostało losowo przypisane 80% obserwacji, natomiast do danych testowych 20%.   "
   ]
  },
  {
   "cell_type": "code",
   "execution_count": 4,
   "metadata": {},
   "outputs": [],
   "source": [
    "X_train, X_test, y_train, y_test = train_test_split(\n",
    "X, y, test_size=0.2, random_state=0)"
   ]
  },
  {
   "cell_type": "markdown",
   "metadata": {},
   "source": [
    "### Model sieci neuronowych"
   ]
  },
  {
   "cell_type": "markdown",
   "metadata": {},
   "source": [
    "Do predykcji zmiennej objaśnianej, czyli subiektywnej oceny sytuacji finansowej gospodarstwa domowego zostanie zastosowany model dyskryminatywnych głębokich sieci neuronowych. Jest to model, który pozwala na dyskryminacje wzorców dla celów ich klasyfikacji, należy on do modeli stosowanych do nadzorowanego uczenia się. Model ten zwracał będzie prawdopodobieństwo wystąpienia złej subiektywnej oceny sytuacji finansowej. Na tej podstawie będzie dokonywana predykcja i ocena siły dyskryminacyjnej modelu sieci neuronowych."
   ]
  },
  {
   "cell_type": "markdown",
   "metadata": {},
   "source": [
    "### Funkcje aktywacji"
   ]
  },
  {
   "cell_type": "markdown",
   "metadata": {},
   "source": [
    "Funkcje aktywacji są bardzo ważną częścią sieci neuronowych. Właśności sieci zmieniają się w zależności od tego jakie funkcje aktywacji wybierzemy.\n",
    "\n",
    "#### Funkcje aktywacji w ukrytych warstwach\n",
    "Funkcją aktywacji która została wybrana w każdej ukrytej warstwie była funkcja ReLU, która pozwala uniknąć problemu zanikającego gradientu. Jest ona szeroko wykorzystywana, ponieważ jest bardzo efektywna w wielu typach sieci neuronowych.\n",
    "Jeśli w sieci występują małe gradienty oraz posiadamy wiele ukrytych warstw, oznacza to że gradienty te będą przez siebie mnożone wiele razy podczas propagacji wstecznej. Komputery mają pewne ograniczenia dotyczące pracy z liczbami, jeśli pomnożymy wiele bardzo małych liczb, wartość gradientu bardzo szybko spadnie i zaniknie.\n",
    "\n",
    "#### Finalna funkcja aktywacji\n",
    "W problemach binarnej klasyfikacji najczęściej wykorzystywaną funkcją finalną jest funkcja Sigmoid. Zwaraca ona prawdopodobieństwo wystąpienia klasy pozytywnej.\n"
   ]
  },
  {
   "cell_type": "markdown",
   "metadata": {},
   "source": [
    "### Funkcja straty"
   ]
  },
  {
   "cell_type": "markdown",
   "metadata": {},
   "source": [
    "Dla problemów klasyfikacji binarnej najczęściej używaną i najbardziej efektywną funkcją straty jest entropia krzyżowa. \n",
    "\n",
    "Entropia krzyżowa liczy wynik, który podsumowuje średnią wartość różnicy pomiędzy rzeczywistym oraz przewidywanym rozkładem prawdopodobieństwa predykcji klasy pozytywnej. Wynik ten jest minimalizowany, a idealny model ma stratę krzyżową entropii równą 0.\n",
    "\n",
    "Sieci neuronowe stworzone do klasyfikacji, które używają funkcji sigmoidalnej w warstwie wyjściowej uczą się szybciej wykorzystując funkcję entropii krzyżowej niż błąd średniokwadratowy."
   ]
  },
  {
   "cell_type": "markdown",
   "metadata": {},
   "source": [
    "### Algorytm optymalizacyjny"
   ]
  },
  {
   "cell_type": "markdown",
   "metadata": {},
   "source": [
    "Wybór algorytmu optymalizacyjnego jest jednym z najważniejszych kroków w trakcie tworzenia sieci neuronowych. Określa on w jaki sposób dobierane są parametry sieci. \n",
    "\n",
    "W stworzonym modelu wykorzystany został algorytm ADAM (Adaptive Moment Estimation), który jest rozszerzeniem algorytmu SGD (Stochastic Gradient Descent). \n",
    "\n",
    "Algorytm ADAM jest popularny w dziedzinie deep learningu, ponieważ szybko osiąga dobre rezultaty. W praktyce ADAM jest rekomendowany jako domyślny algorytm do uczenia sieci, ponieważ wypada zwykle lepiej w porównaniu do innych algorytmów optymalizacyjnych. Wnioski te zostały sprawdzone w modelu. Okazało się, że algorytm ADAM daje bardzo zbliżone do innych algorytmów rezultaty. Finalnie właśnie ten algorytm został zaimplementowany w sieci."
   ]
  },
  {
   "cell_type": "markdown",
   "metadata": {},
   "source": [
    "### Strojenie hiperparametrów"
   ]
  },
  {
   "cell_type": "markdown",
   "metadata": {},
   "source": [
    "Problem dopasowania głębokich sieci neuronowych (regularization of deep\n",
    "learning) jest bardzo istotny, gdyż sieci wielowarstwowe potrafią bardzo\n",
    "dobrze dopasować się do danych uczących (tzw. problem zbytniego dopasowania\n",
    "się – overfitting problem), lecz na danych testowych mogą zachowywać się\n",
    "niepoprawnie. Im więcej warstw tym potencjalnie tworzone są bardziej\n",
    "skomplikowane funkcje nieliniowe, które pogłębiają ten problem.\n"
   ]
  },
  {
   "cell_type": "markdown",
   "metadata": {},
   "source": [
    "### Architerktura sieci neuronowych"
   ]
  },
  {
   "cell_type": "markdown",
   "metadata": {},
   "source": [
    "Wybór liczby ukrytych wartsw i liczby neuronów w każdej warstwie nie jest łatwym zadaniem. Chcemy wybrać na tyle dużą arkitekturę sieci, aby poprawnie aproksymować zadaną funkcję, ale nie na tyle dużą aby zajmowało to zbyt dużo czasu. Ponadto głębokie sieci neuronowe wymagają dużej ilości danych do treningu. Oznacza to, że nie osiągniemy dużej korzyści na dodawaniu kolejnych wartsw i neuronów, gdy liczba obserwacji w zbiorze treningowym nie jest duża. Okazuje się również, że zbyt głębokie i rozbudowane sieci neuronowe mają tendencję do przeuczenia. \n",
    "\n",
    "W związku tym liczba ukrytych wartsw oraz liczba neuronów została wybrana przy uwzględnieniu wyżej wspomnianych własności. Liczba ukrytych warstw w modelu wynosi 2, liczba neuronów w pierwszej warstwie wynosi 15, a w drugiej 8."
   ]
  },
  {
   "cell_type": "markdown",
   "metadata": {},
   "source": [
    "### Batch size i epochs"
   ]
  },
  {
   "cell_type": "markdown",
   "metadata": {},
   "source": [
    "Liczba epochs określa ile razy algorytm użyje wszystkich obserwacji zawartych w zbiorze uczącym, natomiast  rozmiar paczki danych (batch size) definiuje liczbę próbek, którą musi przejść sieć przed aktualizacją wewnętrznych parametrów. W ogólnym rozumieniu jest to pętla, w której dokonywane są prognozy porównywane z oczekiwanymi zmiennymi wyjściowymi. Na końcu pętli obliczany jest błąd, który służy sieci do ulepszania modelu.\n",
    "\n",
    "Nie ma ściśle określonych reguł wyboru liczby epok i rozmiaru paczki danych. Nie ma gwarancji, że użycie większej liczby epok przyniesie lepsze rezultaty. Dlatego oba parametry zostaną wybrane metodą prób i błędów. \n",
    "\n",
    "W zaproponowanym modelu liczba epok wynosi 40, a batch size wynosi 32."
   ]
  },
  {
   "cell_type": "code",
   "execution_count": 5,
   "metadata": {},
   "outputs": [],
   "source": [
    "model = Sequential()\n",
    "model.add(Dense(15, activation='relu', input_dim=22))\n",
    "model.add(Dense(8, activation='relu'))\n",
    "model.add(Dense(1, activation='sigmoid'))\n",
    "\n",
    "# Compile the model\n",
    "model.compile(optimizer='ADAM', \n",
    "              loss='binary_crossentropy', \n",
    "              metrics=['accuracy'])"
   ]
  },
  {
   "cell_type": "code",
   "execution_count": 6,
   "metadata": {},
   "outputs": [
    {
     "name": "stdout",
     "output_type": "stream",
     "text": [
      "Epoch 1/40\n",
      "7677/7677 [==============================] - 1s 149us/step - loss: 0.5995 - accuracy: 0.6708\n",
      "Epoch 2/40\n",
      "7677/7677 [==============================] - 1s 65us/step - loss: 0.5799 - accuracy: 0.6908\n",
      "Epoch 3/40\n",
      "7677/7677 [==============================] - 1s 68us/step - loss: 0.5732 - accuracy: 0.7054\n",
      "Epoch 4/40\n",
      "7677/7677 [==============================] - 0s 63us/step - loss: 0.5693 - accuracy: 0.7029\n",
      "Epoch 5/40\n",
      "7677/7677 [==============================] - 0s 64us/step - loss: 0.5672 - accuracy: 0.7086\n",
      "Epoch 6/40\n",
      "7677/7677 [==============================] - 0s 64us/step - loss: 0.5652 - accuracy: 0.7106\n",
      "Epoch 7/40\n",
      "7677/7677 [==============================] - 0s 63us/step - loss: 0.5649 - accuracy: 0.7100\n",
      "Epoch 8/40\n",
      "7677/7677 [==============================] - 0s 64us/step - loss: 0.5637 - accuracy: 0.7106\n",
      "Epoch 9/40\n",
      "7677/7677 [==============================] - 0s 64us/step - loss: 0.5633 - accuracy: 0.7106\n",
      "Epoch 10/40\n",
      "7677/7677 [==============================] - 0s 64us/step - loss: 0.5620 - accuracy: 0.7108\n",
      "Epoch 11/40\n",
      "7677/7677 [==============================] - 1s 68us/step - loss: 0.5617 - accuracy: 0.7116\n",
      "Epoch 12/40\n",
      "7677/7677 [==============================] - 0s 62us/step - loss: 0.5612 - accuracy: 0.7117\n",
      "Epoch 13/40\n",
      "7677/7677 [==============================] - 0s 64us/step - loss: 0.5609 - accuracy: 0.7129\n",
      "Epoch 14/40\n",
      "7677/7677 [==============================] - 0s 63us/step - loss: 0.5606 - accuracy: 0.7129\n",
      "Epoch 15/40\n",
      "7677/7677 [==============================] - 0s 63us/step - loss: 0.5598 - accuracy: 0.7132\n",
      "Epoch 16/40\n",
      "7677/7677 [==============================] - 0s 65us/step - loss: 0.5597 - accuracy: 0.7141\n",
      "Epoch 17/40\n",
      "7677/7677 [==============================] - 0s 63us/step - loss: 0.5595 - accuracy: 0.7173\n",
      "Epoch 18/40\n",
      "7677/7677 [==============================] - 0s 64us/step - loss: 0.5589 - accuracy: 0.7119\n",
      "Epoch 19/40\n",
      "7677/7677 [==============================] - 1s 72us/step - loss: 0.5590 - accuracy: 0.7147\n",
      "Epoch 20/40\n",
      "7677/7677 [==============================] - 1s 74us/step - loss: 0.5586 - accuracy: 0.7142\n",
      "Epoch 21/40\n",
      "7677/7677 [==============================] - 1s 70us/step - loss: 0.5581 - accuracy: 0.7140\n",
      "Epoch 22/40\n",
      "7677/7677 [==============================] - 0s 63us/step - loss: 0.5577 - accuracy: 0.7132\n",
      "Epoch 23/40\n",
      "7677/7677 [==============================] - 0s 63us/step - loss: 0.5579 - accuracy: 0.7145\n",
      "Epoch 24/40\n",
      "7677/7677 [==============================] - 1s 65us/step - loss: 0.5578 - accuracy: 0.7150\n",
      "Epoch 25/40\n",
      "7677/7677 [==============================] - 0s 63us/step - loss: 0.5573 - accuracy: 0.7133\n",
      "Epoch 26/40\n",
      "7677/7677 [==============================] - 0s 62us/step - loss: 0.5572 - accuracy: 0.7147\n",
      "Epoch 27/40\n",
      "7677/7677 [==============================] - 0s 64us/step - loss: 0.5568 - accuracy: 0.7128\n",
      "Epoch 28/40\n",
      "7677/7677 [==============================] - 0s 63us/step - loss: 0.5569 - accuracy: 0.7142\n",
      "Epoch 29/40\n",
      "7677/7677 [==============================] - 0s 63us/step - loss: 0.5566 - accuracy: 0.7130\n",
      "Epoch 30/40\n",
      "7677/7677 [==============================] - 0s 63us/step - loss: 0.5561 - accuracy: 0.7146\n",
      "Epoch 31/40\n",
      "7677/7677 [==============================] - 0s 64us/step - loss: 0.5561 - accuracy: 0.7146\n",
      "Epoch 32/40\n",
      "7677/7677 [==============================] - 0s 63us/step - loss: 0.5562 - accuracy: 0.7160\n",
      "Epoch 33/40\n",
      "7677/7677 [==============================] - 0s 63us/step - loss: 0.5556 - accuracy: 0.7151\n",
      "Epoch 34/40\n",
      "7677/7677 [==============================] - 0s 63us/step - loss: 0.5553 - accuracy: 0.7197\n",
      "Epoch 35/40\n",
      "7677/7677 [==============================] - 0s 63us/step - loss: 0.5556 - accuracy: 0.7151\n",
      "Epoch 36/40\n",
      "7677/7677 [==============================] - 0s 64us/step - loss: 0.5553 - accuracy: 0.7158\n",
      "Epoch 37/40\n",
      "7677/7677 [==============================] - 0s 64us/step - loss: 0.5550 - accuracy: 0.7147\n",
      "Epoch 38/40\n",
      "7677/7677 [==============================] - 0s 63us/step - loss: 0.5549 - accuracy: 0.7159\n",
      "Epoch 39/40\n",
      "7677/7677 [==============================] - 1s 80us/step - loss: 0.5555 - accuracy: 0.7171\n",
      "Epoch 40/40\n",
      "7677/7677 [==============================] - 1s 75us/step - loss: 0.5548 - accuracy: 0.7164\n"
     ]
    }
   ],
   "source": [
    "history = model.fit(X_train, y_train, epochs=40, batch_size = 32)"
   ]
  },
  {
   "cell_type": "markdown",
   "metadata": {},
   "source": [
    "### Younden index - wybór cut-off point "
   ]
  },
  {
   "cell_type": "markdown",
   "metadata": {},
   "source": [
    "Zbudowany model sieci neuronowych zwraca prawdopodobieństwo wystąpienia klasy pozytywnej, dlatego ważne jest wybrać odpowiedni cut-off, który określi dla jakiego prawdopodobieństwa dana obserwacja zostanie przypisana do klasy pozytywnej, a dla jakiego do klasy negatywnej.\n",
    "\n",
    "Często wykorzystywaną metodą wyboru punktu odcięcia dla predykcji zmiennej objasnianej jest Yonden index, który określa optymalny cut-off, który maksymalizuje Younden function na przestrzeni możliwych punktów odcięcia (c). Younden jest funkcją sensitivity (Se) i specificity (Sp). "
   ]
  },
  {
   "cell_type": "markdown",
   "metadata": {},
   "source": [
    " <center>J(c) = Se(c) + Sp(c) - 1</center>"
   ]
  },
  {
   "cell_type": "code",
   "execution_count": 7,
   "metadata": {},
   "outputs": [],
   "source": [
    "pred_test = model.predict(X_test)\n",
    "a  = np.linspace(start=0, stop=1, num=101)\n",
    "\n",
    "#Predykcja na podstawie wybranego cut-off point\n",
    "y_pred =  []\n",
    "for x in a:\n",
    "    abc = np.where(pred_test[:,] > x, 1, 0)\n",
    "    y_pred.append(abc)\n",
    "\n",
    "\n",
    "    \n",
    "#obliczenie sensitivity i specificity dla danego cut-off point    \n",
    "accuracy = []\n",
    "sensitiviy = []\n",
    "specificity = []\n",
    "\n",
    "\n",
    "d = np.linspace(start = 0, stop = 100, num = 101).astype(int)\n",
    "for x in d:\n",
    "    tn, fp, fn, tp = confusion_matrix(np.array(y_test), y_pred[x]).ravel()\n",
    "    accuracy1 = (tp + tn) / (tp + tn +fn+fp)\n",
    "    sensitiviy1 = tp / (tp +fn) \n",
    "    specificity1 = tn / (tn+fp)\n",
    "    \n",
    "    accuracy.append(accuracy1)\n",
    "    sensitiviy.append(sensitiviy1)\n",
    "    specificity.append(specificity1)   \n",
    "    \n",
    "#Younden index jako pomoc przy wyborze najoptymalniejszego cut-off point    \n",
    "Younden_index = []\n",
    "\n",
    "for x in d:\n",
    "    Younden_index1 = sensitiviy[x] + specificity[x] - 1\n",
    "    \n",
    "    Younden_index.append(Younden_index1)"
   ]
  },
  {
   "cell_type": "code",
   "execution_count": 8,
   "metadata": {},
   "outputs": [
    {
     "name": "stdout",
     "output_type": "stream",
     "text": [
      "Wybrane statystyki - model sieci neuronowych\n",
      "Cut-off: 0. 67\n",
      "Accuracy: 0.66\n",
      "Sensitiviy: 0.66\n",
      "Specificity: 0.65\n",
      "AUC 0.66\n",
      "Wybrane statystyki - model regresji liniowej\n",
      "Cut-off: 0.63\n",
      "Accuracy: 0.68\n",
      "Sensitiviy: 0.75\n",
      "Specificity: 0.56\n",
      "AUC 0.69\n"
     ]
    }
   ],
   "source": [
    "index_max = Younden_index.index(np.max(Younden_index))\n",
    "dp_auc = roc_auc_score(np.array(y_test), y_pred[index_max])\n",
    "print('Wybrane statystyki - model sieci neuronowych')\n",
    "print('Cut-off:', \"0.\", index_max)\n",
    "print('Accuracy:', round(accuracy[index_max], 2))\n",
    "print('Sensitiviy:', round(sensitiviy[index_max],2))\n",
    "print('Specificity:', round(specificity[index_max],2))\n",
    "print('AUC', round(dp_auc,2))\n",
    "\n",
    "print('Wybrane statystyki - model regresji liniowej')\n",
    "print('Cut-off:', 0.63)\n",
    "print('Accuracy:', 0.68)\n",
    "print('Sensitiviy:', 0.75)\n",
    "print('Specificity:', 0.56)\n",
    "print('AUC', 0.69)"
   ]
  },
  {
   "cell_type": "markdown",
   "metadata": {},
   "source": [
    "### Podsumowanie"
   ]
  },
  {
   "cell_type": "markdown",
   "metadata": {},
   "source": [
    "Zbudowany model sieci neuronowych posiada zbliżone możliwości dyskryminacyjne do modelu regresji logisycznej w przypadku predykcji zmiennej objaśnianej dotyczącej subiektywnej sytuacji finansowej gospodarstw domowych na podanym zbiorze danych. Wystąpiły minimalne różnice w wartościach statystyk oceniających trafność predykcji obu modeli klasyfikacyjnych. Jednakże biorąc pod uwagę możliwości interpretacji parametrów modelu logitowego wypada on lepiej w tym problemie klasyfikacji.\n",
    "\n",
    "Model sieci neuronowych był testowany na wielu różnych parametrach odnoszących się do architektury sieci, liczby epok i wielkości batch size. Sprawdzane były również różne algorytmy optymalizacyjne. Wyniki odnoszące się do skuteczności modelu przy różnych konfiguracjach były do siebie bardzo zbliżone. Im więcej warstw ukrytych a także im więcej neuronów w tych warstwach, tym model bardziej dopasowywał się do danych treningowych i gorzej radził sobie na danych testowych. Zbudowany model nie jest zbyt głęboki i nie posiada wielu wartsw ukrytych, ponieważ dane treningowe nie są na tyle duże, aby osiągnąć korzyść z takiej architektury sieci."
   ]
  },
  {
   "cell_type": "markdown",
   "metadata": {},
   "source": [
    "### Bibliografia"
   ]
  },
  {
   "cell_type": "markdown",
   "metadata": {},
   "source": [
    "[Intermediate Topics in Neural Networks](https://towardsdatascience.com/comprehensive-introduction-to-neural-network-architecture-c08c6d8e5d98)\n",
    "\n",
    "\n",
    "[Simple Guide to Hyperparameter Tuning in Neural Networks](https://towardsdatascience.com/simple-guide-to-hyperparameter-tuning-in-neural-networks-3fe03dad8594)\n",
    "\n",
    "[How to Configure the Number of Layers and Nodes in a Neural Network](https://machinelearningmastery.com/how-to-configure-the-number-of-layers-and-nodes-in-a-neural-network/)\n",
    "\n",
    "Praca licencjacka - wysłana w załączniku"
   ]
  }
 ],
 "metadata": {
  "kernelspec": {
   "display_name": "Python 3",
   "language": "python",
   "name": "python3"
  },
  "language_info": {
   "codemirror_mode": {
    "name": "ipython",
    "version": 3
   },
   "file_extension": ".py",
   "mimetype": "text/x-python",
   "name": "python",
   "nbconvert_exporter": "python",
   "pygments_lexer": "ipython3",
   "version": "3.7.4"
  }
 },
 "nbformat": 4,
 "nbformat_minor": 4
}
